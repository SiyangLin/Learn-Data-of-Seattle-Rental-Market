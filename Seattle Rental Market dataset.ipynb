{
 "cells": [
  {
   "cell_type": "code",
   "execution_count": 4,
   "metadata": {},
   "outputs": [],
   "source": [
    "from mpl_toolkits.mplot3d import Axes3D\n",
    "from sklearn.preprocessing import StandardScaler\n",
    "import matplotlib.pyplot as plt \n",
    "import numpy as np\n",
    "import os\n",
    "import pandas as pd "
   ]
  },
  {
   "cell_type": "code",
   "execution_count": 64,
   "metadata": {
    "collapsed": true
   },
   "outputs": [
    {
     "data": {
      "text/html": [
       "<div>\n",
       "<style scoped>\n",
       "    .dataframe tbody tr th:only-of-type {\n",
       "        vertical-align: middle;\n",
       "    }\n",
       "\n",
       "    .dataframe tbody tr th {\n",
       "        vertical-align: top;\n",
       "    }\n",
       "\n",
       "    .dataframe thead th {\n",
       "        text-align: right;\n",
       "    }\n",
       "</style>\n",
       "<table border=\"1\" class=\"dataframe\">\n",
       "  <thead>\n",
       "    <tr style=\"text-align: right;\">\n",
       "      <th></th>\n",
       "      <th>room_id</th>\n",
       "      <th>host_id</th>\n",
       "      <th>room_type</th>\n",
       "      <th>address</th>\n",
       "      <th>reviews</th>\n",
       "      <th>overall_satisfaction</th>\n",
       "      <th>accommodates</th>\n",
       "      <th>bedrooms</th>\n",
       "      <th>bathrooms</th>\n",
       "      <th>price</th>\n",
       "      <th>last_modified</th>\n",
       "      <th>latitude</th>\n",
       "      <th>longitude</th>\n",
       "      <th>location</th>\n",
       "      <th>name</th>\n",
       "      <th>currency</th>\n",
       "      <th>rate_type</th>\n",
       "    </tr>\n",
       "  </thead>\n",
       "  <tbody>\n",
       "    <tr>\n",
       "      <th>0</th>\n",
       "      <td>2318</td>\n",
       "      <td>2536</td>\n",
       "      <td>Entire home/apt</td>\n",
       "      <td>Seattle, WA, United States</td>\n",
       "      <td>21</td>\n",
       "      <td>5.0</td>\n",
       "      <td>8</td>\n",
       "      <td>4.0</td>\n",
       "      <td>2.5</td>\n",
       "      <td>250</td>\n",
       "      <td>2018-12-20 03:46:14.698548</td>\n",
       "      <td>47.610819</td>\n",
       "      <td>-122.290816</td>\n",
       "      <td>0101000020E6100000D449B6BA9C925EC0416326512FCE...</td>\n",
       "      <td>Casa Madrona - Urban Oasis, 1 block from the P...</td>\n",
       "      <td>USD</td>\n",
       "      <td>nightly</td>\n",
       "    </tr>\n",
       "    <tr>\n",
       "      <th>1</th>\n",
       "      <td>3335</td>\n",
       "      <td>4193</td>\n",
       "      <td>Entire home/apt</td>\n",
       "      <td>Seattle, WA, United States</td>\n",
       "      <td>1</td>\n",
       "      <td>NaN</td>\n",
       "      <td>4</td>\n",
       "      <td>2.0</td>\n",
       "      <td>1.0</td>\n",
       "      <td>100</td>\n",
       "      <td>2018-12-20 04:08:45.277643</td>\n",
       "      <td>47.529846</td>\n",
       "      <td>-122.275840</td>\n",
       "      <td>0101000020E61000006FBBD05CA7915EC04DF564FED1C3...</td>\n",
       "      <td>Sweet Seattle Urban Homestead 2 Bdr</td>\n",
       "      <td>USD</td>\n",
       "      <td>nightly</td>\n",
       "    </tr>\n",
       "    <tr>\n",
       "      <th>2</th>\n",
       "      <td>4291</td>\n",
       "      <td>35749</td>\n",
       "      <td>Private room</td>\n",
       "      <td>Seattle, WA, United States</td>\n",
       "      <td>63</td>\n",
       "      <td>4.5</td>\n",
       "      <td>2</td>\n",
       "      <td>1.0</td>\n",
       "      <td>1.0</td>\n",
       "      <td>82</td>\n",
       "      <td>2018-12-20 03:04:19.861014</td>\n",
       "      <td>47.687801</td>\n",
       "      <td>-122.313427</td>\n",
       "      <td>0101000020E6100000BDAB1E300F945EC0FB93F8DC09D8...</td>\n",
       "      <td>Sunrise in Seattle Master Suite</td>\n",
       "      <td>USD</td>\n",
       "      <td>nightly</td>\n",
       "    </tr>\n",
       "    <tr>\n",
       "      <th>3</th>\n",
       "      <td>5682</td>\n",
       "      <td>8993</td>\n",
       "      <td>Entire home/apt</td>\n",
       "      <td>Seattle, WA, United States</td>\n",
       "      <td>462</td>\n",
       "      <td>5.0</td>\n",
       "      <td>2</td>\n",
       "      <td>0.0</td>\n",
       "      <td>1.0</td>\n",
       "      <td>49</td>\n",
       "      <td>2018-12-20 04:11:25.482975</td>\n",
       "      <td>47.523980</td>\n",
       "      <td>-122.359891</td>\n",
       "      <td>0101000020E6100000FCC7427408975EC009E1D1C611C3...</td>\n",
       "      <td>Cozy Studio, min. to downtown -WiFi</td>\n",
       "      <td>USD</td>\n",
       "      <td>nightly</td>\n",
       "    </tr>\n",
       "    <tr>\n",
       "      <th>4</th>\n",
       "      <td>6606</td>\n",
       "      <td>14942</td>\n",
       "      <td>Entire home/apt</td>\n",
       "      <td>Seattle, WA, United States</td>\n",
       "      <td>134</td>\n",
       "      <td>4.5</td>\n",
       "      <td>2</td>\n",
       "      <td>1.0</td>\n",
       "      <td>1.0</td>\n",
       "      <td>90</td>\n",
       "      <td>2018-12-20 03:12:38.391711</td>\n",
       "      <td>47.654109</td>\n",
       "      <td>-122.337605</td>\n",
       "      <td>0101000020E6100000D47D00529B955EC07782FDD7B9D3...</td>\n",
       "      <td>Fab, private seattle urban cottage!</td>\n",
       "      <td>USD</td>\n",
       "      <td>nightly</td>\n",
       "    </tr>\n",
       "  </tbody>\n",
       "</table>\n",
       "</div>"
      ],
      "text/plain": [
       "   room_id  host_id        room_type                     address  reviews  \\\n",
       "0     2318     2536  Entire home/apt  Seattle, WA, United States       21   \n",
       "1     3335     4193  Entire home/apt  Seattle, WA, United States        1   \n",
       "2     4291    35749     Private room  Seattle, WA, United States       63   \n",
       "3     5682     8993  Entire home/apt  Seattle, WA, United States      462   \n",
       "4     6606    14942  Entire home/apt  Seattle, WA, United States      134   \n",
       "\n",
       "   overall_satisfaction  accommodates  bedrooms  bathrooms  price  \\\n",
       "0                   5.0             8       4.0        2.5    250   \n",
       "1                   NaN             4       2.0        1.0    100   \n",
       "2                   4.5             2       1.0        1.0     82   \n",
       "3                   5.0             2       0.0        1.0     49   \n",
       "4                   4.5             2       1.0        1.0     90   \n",
       "\n",
       "                last_modified   latitude   longitude  \\\n",
       "0  2018-12-20 03:46:14.698548  47.610819 -122.290816   \n",
       "1  2018-12-20 04:08:45.277643  47.529846 -122.275840   \n",
       "2  2018-12-20 03:04:19.861014  47.687801 -122.313427   \n",
       "3  2018-12-20 04:11:25.482975  47.523980 -122.359891   \n",
       "4  2018-12-20 03:12:38.391711  47.654109 -122.337605   \n",
       "\n",
       "                                            location  \\\n",
       "0  0101000020E6100000D449B6BA9C925EC0416326512FCE...   \n",
       "1  0101000020E61000006FBBD05CA7915EC04DF564FED1C3...   \n",
       "2  0101000020E6100000BDAB1E300F945EC0FB93F8DC09D8...   \n",
       "3  0101000020E6100000FCC7427408975EC009E1D1C611C3...   \n",
       "4  0101000020E6100000D47D00529B955EC07782FDD7B9D3...   \n",
       "\n",
       "                                                name currency rate_type  \n",
       "0  Casa Madrona - Urban Oasis, 1 block from the P...      USD   nightly  \n",
       "1                Sweet Seattle Urban Homestead 2 Bdr      USD   nightly  \n",
       "2                    Sunrise in Seattle Master Suite      USD   nightly  \n",
       "3                Cozy Studio, min. to downtown -WiFi      USD   nightly  \n",
       "4                Fab, private seattle urban cottage!      USD   nightly  "
      ]
     },
     "execution_count": 64,
     "metadata": {},
     "output_type": "execute_result"
    }
   ],
   "source": [
    "seattle = pd.read_csv(\"seattle_01.csv\", index_col = \"Unnamed: 0\")\n",
    "seattle.head()"
   ]
  },
  {
   "cell_type": "code",
   "execution_count": 70,
   "metadata": {},
   "outputs": [
    {
     "name": "stdout",
     "output_type": "stream",
     "text": [
      "<class 'pandas.core.frame.DataFrame'>\n",
      "Int64Index: 7576 entries, 0 to 1517\n",
      "Data columns (total 17 columns):\n",
      "room_id                 7576 non-null int64\n",
      "host_id                 7576 non-null int64\n",
      "room_type               7576 non-null category\n",
      "address                 7576 non-null object\n",
      "reviews                 7576 non-null int64\n",
      "overall_satisfaction    6103 non-null float64\n",
      "accommodates            7576 non-null int64\n",
      "bedrooms                7576 non-null float64\n",
      "bathrooms               7574 non-null float64\n",
      "price                   7576 non-null int64\n",
      "last_modified           7576 non-null object\n",
      "latitude                7576 non-null float64\n",
      "longitude               7576 non-null float64\n",
      "location                7576 non-null object\n",
      "name                    7576 non-null object\n",
      "currency                7576 non-null category\n",
      "rate_type               7576 non-null category\n",
      "dtypes: category(3), float64(5), int64(5), object(4)\n",
      "memory usage: 910.3+ KB\n"
     ]
    }
   ],
   "source": [
    "seattle.info()"
   ]
  },
  {
   "cell_type": "code",
   "execution_count": 31,
   "metadata": {},
   "outputs": [
    {
     "data": {
      "text/plain": [
       "7317"
      ]
     },
     "execution_count": 31,
     "metadata": {},
     "output_type": "execute_result"
    }
   ],
   "source": [
    "seattle[\"location\"].nunique()"
   ]
  },
  {
   "cell_type": "code",
   "execution_count": 30,
   "metadata": {
    "collapsed": true
   },
   "outputs": [
    {
     "data": {
      "text/plain": [
       "0101000020E6100000A1866F61DD955EC01E17D522A2D04740    38\n",
       "0101000020E610000029417FA147955EC0C619C39CA0CF4740    32\n",
       "0101000020E610000021020EA14A945EC0A950DD5CFCCF4740    15\n",
       "0101000020E610000052465C001A955EC0E9279CDD5ACE4740    11\n",
       "0101000020E610000062A3ACDF4C955EC0CCD3B9A294CE4740    10\n",
       "0101000020E610000069E21DE049945EC0AE0D15E3FCCF4740    10\n",
       "0101000020E61000007C8159A148965EC0F6083543AACE4740     8\n",
       "0101000020E6100000E754320054965EC07A8A1C226ECE4740     8\n",
       "0101000020E6100000D0D03FC1C5965EC06C3F19E3C3C44740     8\n",
       "0101000020E6100000505260014C955EC0C616821C94CE4740     8\n",
       "0101000020E61000004DF8A57EDE8A5EC0698B6B7C26D74740     7\n",
       "0101000020E6100000868DB27E33965EC0D158FB3BDBD34740     6\n",
       "0101000020E610000083C30B2252955EC0DFC4909C4CD64740     5\n",
       "0101000020E6100000368FC360FE935EC039B69E211CCF4740     5\n",
       "0101000020E610000051137D3ECA8D5EC063D009A183C84740     5\n",
       "0101000020E61000000742B28009945EC020B41EBE4CCE4740     4\n",
       "0101000020E61000002D41464085925EC022DE3AFF76C54740     4\n",
       "0101000020E610000029ED0DBE30935EC0A14ACD1E68CB4740     4\n",
       "0101000020E610000079758E01D98C5EC0293E3E213BC34740     4\n",
       "0101000020E6100000EFAB72A1F2935EC0EE7BD45FAFCE4740     4\n",
       "0101000020E610000089D2DEE00B945EC081EA1F4432CE4740     4\n",
       "0101000020E6100000CB9D996038965EC0FEEDB25F77D04740     4\n",
       "0101000020E61000002635B401D8955EC0E960FD9FC3CE4740     4\n",
       "0101000020E610000080608E1EBF955EC0E754320054D14740     3\n",
       "0101000020E61000009E62D520CC935EC0944DB9C2BBCE4740     3\n",
       "0101000020E6100000A27A6B60AB965EC01327F73B14C74740     3\n",
       "0101000020E6100000D712F241CF965EC0FFEA71DF6ACF4740     3\n",
       "0101000020E61000008787307E1A955EC09B560A815CCE4740     3\n",
       "0101000020E6100000BF64E3C116945EC0EFAEB321FFCE4740     3\n",
       "0101000020E61000005C7347FFCB925EC0D71533C2DBCB4740     3\n",
       "                                                      ..\n",
       "0101000020E6100000F5D555815A945EC07E8FFAEB15D44740     1\n",
       "0101000020E6100000B0E600C11C965EC09FB0C403CAD84740     1\n",
       "0101000020E6100000F96A47718E895EC0635E471CB2C94740     1\n",
       "0101000020E6100000ED9FA70183885EC0B2F4A10BEAD34740     1\n",
       "0101000020E61000005C02F04FA9935EC00281CEA44DCD4740     1\n",
       "0101000020E6100000C748F60835955EC01EFCC401F4CF4740     1\n",
       "0101000020E6100000CE3461FBC98F5EC0E4F736FDD9CB4740     1\n",
       "0101000020E6100000BCCADAA678985EC0D234289A07C64740     1\n",
       "0101000020E6100000677BF486FB945EC0B98B3045B9D64740     1\n",
       "0101000020E6100000B954A52DAE935EC0FD6CE4BA29CD4740     1\n",
       "0101000020E6100000A243E048A0945EC06327BC04A7CC4740     1\n",
       "0101000020E6100000348463963D955EC072C3EFA65BCE4740     1\n",
       "0101000020E610000084D382177D945EC049A12C7C7DCF4740     1\n",
       "0101000020E6100000B5368DEDB5935EC0185FB4C70BCD4740     1\n",
       "0101000020E6100000E353008C67965EC05281936DE0CE4740     1\n",
       "0101000020E61000000FB4024356975EC05F07CE1951D44740     1\n",
       "0101000020E61000008BE255D6368C5EC0A81DFE9AACDB4740     1\n",
       "0101000020E61000005AF0A2AF20975EC0B939950C00C54740     1\n",
       "0101000020E6100000F5D555815A995EC03881E9B46ED94740     1\n",
       "0101000020E6100000199128B4AC8C5EC0F722DA8EA9CD4740     1\n",
       "0101000020E6100000F38E537424975EC0A647533D99CF4740     1\n",
       "0101000020E6100000E3A430EF71925EC0BC5AEECC04D74740     1\n",
       "0101000020E6100000B8239C16BC965EC0C58D5BCCCFCF4740     1\n",
       "0101000020E61000004BB0389CF9935EC0A2293BFDA0CE4740     1\n",
       "0101000020E61000000F7D772B4B925EC009A7052FFAC84740     1\n",
       "0101000020E61000009FAA4203B1995EC030D80DDB16D34740     1\n",
       "0101000020E6100000F816D68D778A5EC0C9224DBC03D24740     1\n",
       "0101000020E6100000753BFBCA83975EC024F0879FFFD44740     1\n",
       "0101000020E6100000533D997FF4985EC0DA39CD02EDD24740     1\n",
       "0101000020E6100000F1B73D4162965EC0A60A462575CE4740     1\n",
       "Name: location, Length: 7317, dtype: int64"
      ]
     },
     "execution_count": 30,
     "metadata": {},
     "output_type": "execute_result"
    }
   ],
   "source": [
    "seattle[\"location\"].value_counts()"
   ]
  },
  {
   "cell_type": "code",
   "execution_count": 39,
   "metadata": {},
   "outputs": [
    {
     "data": {
      "text/plain": [
       "Index(['room_id', 'host_id', 'room_type', 'address', 'reviews',\n",
       "       'overall_satisfaction', 'accommodates', 'bedrooms', 'bathrooms',\n",
       "       'price', 'last_modified', 'latitude', 'longitude', 'location', 'name',\n",
       "       'currency', 'rate_type'],\n",
       "      dtype='object')"
      ]
     },
     "execution_count": 39,
     "metadata": {},
     "output_type": "execute_result"
    }
   ],
   "source": [
    "seattle.columns"
   ]
  },
  {
   "cell_type": "code",
   "execution_count": 68,
   "metadata": {},
   "outputs": [
    {
     "data": {
      "text/html": [
       "<div>\n",
       "<style scoped>\n",
       "    .dataframe tbody tr th:only-of-type {\n",
       "        vertical-align: middle;\n",
       "    }\n",
       "\n",
       "    .dataframe tbody tr th {\n",
       "        vertical-align: top;\n",
       "    }\n",
       "\n",
       "    .dataframe thead th {\n",
       "        text-align: right;\n",
       "    }\n",
       "</style>\n",
       "<table border=\"1\" class=\"dataframe\">\n",
       "  <thead>\n",
       "    <tr style=\"text-align: right;\">\n",
       "      <th></th>\n",
       "      <th>room_id</th>\n",
       "      <th>host_id</th>\n",
       "      <th>room_type</th>\n",
       "      <th>address</th>\n",
       "      <th>reviews</th>\n",
       "      <th>overall_satisfaction</th>\n",
       "      <th>accommodates</th>\n",
       "      <th>bedrooms</th>\n",
       "      <th>bathrooms</th>\n",
       "      <th>price</th>\n",
       "      <th>last_modified</th>\n",
       "      <th>latitude</th>\n",
       "      <th>longitude</th>\n",
       "      <th>location</th>\n",
       "      <th>name</th>\n",
       "      <th>currency</th>\n",
       "      <th>rate_type</th>\n",
       "    </tr>\n",
       "  </thead>\n",
       "  <tbody>\n",
       "    <tr>\n",
       "      <th>0</th>\n",
       "      <td>2318</td>\n",
       "      <td>2536</td>\n",
       "      <td>Entire home/apt</td>\n",
       "      <td>Seattle, WA, United States</td>\n",
       "      <td>21</td>\n",
       "      <td>5.0</td>\n",
       "      <td>8</td>\n",
       "      <td>4.0</td>\n",
       "      <td>2.5</td>\n",
       "      <td>250</td>\n",
       "      <td>2018-12-20 03:46:14.698548</td>\n",
       "      <td>47.610819</td>\n",
       "      <td>-122.290816</td>\n",
       "      <td>0101000020E6100000D449B6BA9C925EC0416326512FCE...</td>\n",
       "      <td>Casa Madrona - Urban Oasis, 1 block from the P...</td>\n",
       "      <td>USD</td>\n",
       "      <td>nightly</td>\n",
       "    </tr>\n",
       "    <tr>\n",
       "      <th>4951</th>\n",
       "      <td>22152321</td>\n",
       "      <td>8534462</td>\n",
       "      <td>Entire home/apt</td>\n",
       "      <td>Seattle, WA, United States</td>\n",
       "      <td>0</td>\n",
       "      <td>NaN</td>\n",
       "      <td>3</td>\n",
       "      <td>1.0</td>\n",
       "      <td>1.0</td>\n",
       "      <td>70</td>\n",
       "      <td>2018-12-20 04:01:50.841972</td>\n",
       "      <td>47.602577</td>\n",
       "      <td>-122.337085</td>\n",
       "      <td>0101000020E610000038BEF6CC92955EC030293E3E21CD...</td>\n",
       "      <td>Pike's Place. 98 Walkscore 1BD 9 F</td>\n",
       "      <td>USD</td>\n",
       "      <td>nightly</td>\n",
       "    </tr>\n",
       "    <tr>\n",
       "      <th>4950</th>\n",
       "      <td>22151580</td>\n",
       "      <td>8534462</td>\n",
       "      <td>Entire home/apt</td>\n",
       "      <td>Seattle, WA, United States</td>\n",
       "      <td>0</td>\n",
       "      <td>NaN</td>\n",
       "      <td>3</td>\n",
       "      <td>1.0</td>\n",
       "      <td>1.0</td>\n",
       "      <td>70</td>\n",
       "      <td>2018-12-20 03:49:35.052803</td>\n",
       "      <td>47.610762</td>\n",
       "      <td>-122.341511</td>\n",
       "      <td>0101000020E61000005A0EF450DB955EC0DDD1FF722DCE...</td>\n",
       "      <td>Ultra-Modern 1Bed 3 F</td>\n",
       "      <td>USD</td>\n",
       "      <td>nightly</td>\n",
       "    </tr>\n",
       "    <tr>\n",
       "      <th>4949</th>\n",
       "      <td>22151550</td>\n",
       "      <td>8534462</td>\n",
       "      <td>Entire home/apt</td>\n",
       "      <td>Seattle, WA, United States</td>\n",
       "      <td>0</td>\n",
       "      <td>NaN</td>\n",
       "      <td>5</td>\n",
       "      <td>2.0</td>\n",
       "      <td>2.0</td>\n",
       "      <td>100</td>\n",
       "      <td>2018-12-20 03:26:20.481574</td>\n",
       "      <td>47.617650</td>\n",
       "      <td>-122.348809</td>\n",
       "      <td>0101000020E61000003BE3FBE252965EC0EC2FBB270FCF...</td>\n",
       "      <td>Space Needle Condos 2BR/2BA 3 F</td>\n",
       "      <td>USD</td>\n",
       "      <td>nightly</td>\n",
       "    </tr>\n",
       "    <tr>\n",
       "      <th>4948</th>\n",
       "      <td>22151541</td>\n",
       "      <td>8534462</td>\n",
       "      <td>Entire home/apt</td>\n",
       "      <td>Seattle, WA, United States</td>\n",
       "      <td>0</td>\n",
       "      <td>NaN</td>\n",
       "      <td>5</td>\n",
       "      <td>2.0</td>\n",
       "      <td>2.0</td>\n",
       "      <td>100</td>\n",
       "      <td>2018-12-20 03:26:19.120455</td>\n",
       "      <td>47.617829</td>\n",
       "      <td>-122.349136</td>\n",
       "      <td>0101000020E6100000CD76853E58965EC09CC24A0515CF...</td>\n",
       "      <td>Space Needle Condos 2BR/2BA 2 F</td>\n",
       "      <td>USD</td>\n",
       "      <td>nightly</td>\n",
       "    </tr>\n",
       "  </tbody>\n",
       "</table>\n",
       "</div>"
      ],
      "text/plain": [
       "       room_id  host_id        room_type                     address  reviews  \\\n",
       "0         2318     2536  Entire home/apt  Seattle, WA, United States       21   \n",
       "4951  22152321  8534462  Entire home/apt  Seattle, WA, United States        0   \n",
       "4950  22151580  8534462  Entire home/apt  Seattle, WA, United States        0   \n",
       "4949  22151550  8534462  Entire home/apt  Seattle, WA, United States        0   \n",
       "4948  22151541  8534462  Entire home/apt  Seattle, WA, United States        0   \n",
       "\n",
       "      overall_satisfaction  accommodates  bedrooms  bathrooms  price  \\\n",
       "0                      5.0             8       4.0        2.5    250   \n",
       "4951                   NaN             3       1.0        1.0     70   \n",
       "4950                   NaN             3       1.0        1.0     70   \n",
       "4949                   NaN             5       2.0        2.0    100   \n",
       "4948                   NaN             5       2.0        2.0    100   \n",
       "\n",
       "                   last_modified   latitude   longitude  \\\n",
       "0     2018-12-20 03:46:14.698548  47.610819 -122.290816   \n",
       "4951  2018-12-20 04:01:50.841972  47.602577 -122.337085   \n",
       "4950  2018-12-20 03:49:35.052803  47.610762 -122.341511   \n",
       "4949  2018-12-20 03:26:20.481574  47.617650 -122.348809   \n",
       "4948  2018-12-20 03:26:19.120455  47.617829 -122.349136   \n",
       "\n",
       "                                               location  \\\n",
       "0     0101000020E6100000D449B6BA9C925EC0416326512FCE...   \n",
       "4951  0101000020E610000038BEF6CC92955EC030293E3E21CD...   \n",
       "4950  0101000020E61000005A0EF450DB955EC0DDD1FF722DCE...   \n",
       "4949  0101000020E61000003BE3FBE252965EC0EC2FBB270FCF...   \n",
       "4948  0101000020E6100000CD76853E58965EC09CC24A0515CF...   \n",
       "\n",
       "                                                   name currency rate_type  \n",
       "0     Casa Madrona - Urban Oasis, 1 block from the P...      USD   nightly  \n",
       "4951                 Pike's Place. 98 Walkscore 1BD 9 F      USD   nightly  \n",
       "4950                              Ultra-Modern 1Bed 3 F      USD   nightly  \n",
       "4949                    Space Needle Condos 2BR/2BA 3 F      USD   nightly  \n",
       "4948                    Space Needle Condos 2BR/2BA 2 F      USD   nightly  "
      ]
     },
     "execution_count": 68,
     "metadata": {},
     "output_type": "execute_result"
    }
   ],
   "source": [
    "seattle.sort_values(\"room_type\", ascending = True, inplace = True)\n",
    "seattle.head()"
   ]
  },
  {
   "cell_type": "code",
   "execution_count": 69,
   "metadata": {},
   "outputs": [],
   "source": [
    "seattle[\"room_type\"] = seattle[\"room_type\"].astype(\"category\")\n",
    "seattle[\"rate_type\"] = seattle[\"rate_type\"].astype(\"category\")\n",
    "seattle[\"currency\"] = seattle[\"currency\"].astype(\"category\")"
   ]
  },
  {
   "cell_type": "code",
   "execution_count": 44,
   "metadata": {},
   "outputs": [
    {
     "data": {
      "text/plain": [
       "(7576, 18)"
      ]
     },
     "execution_count": 44,
     "metadata": {},
     "output_type": "execute_result"
    }
   ],
   "source": [
    "df1 = pd.read_csv(\"seattle_01.csv\")\n",
    "df1.shape"
   ]
  },
  {
   "cell_type": "code",
   "execution_count": 45,
   "metadata": {},
   "outputs": [
    {
     "ename": "NameError",
     "evalue": "name 'plotPerColumnDistribution' is not defined",
     "output_type": "error",
     "traceback": [
      "\u001b[0;31m---------------------------------------------------------------------------\u001b[0m",
      "\u001b[0;31mNameError\u001b[0m                                 Traceback (most recent call last)",
      "\u001b[0;32m<ipython-input-45-7582ed919fba>\u001b[0m in \u001b[0;36m<module>\u001b[0;34m\u001b[0m\n\u001b[0;32m----> 1\u001b[0;31m \u001b[0mplotPerColumnDistribution\u001b[0m\u001b[0;34m(\u001b[0m\u001b[0mseattle\u001b[0m\u001b[0;34m,\u001b[0m\u001b[0;36m10\u001b[0m\u001b[0;34m,\u001b[0m \u001b[0;36m5\u001b[0m\u001b[0;34m)\u001b[0m\u001b[0;34m\u001b[0m\u001b[0;34m\u001b[0m\u001b[0m\n\u001b[0m",
      "\u001b[0;31mNameError\u001b[0m: name 'plotPerColumnDistribution' is not defined"
     ]
    }
   ],
   "source": [
    "plotPerColumnDistribution(seattle,10, 5)"
   ]
  },
  {
   "cell_type": "code",
   "execution_count": 46,
   "metadata": {
    "collapsed": true
   },
   "outputs": [
    {
     "data": {
      "text/plain": [
       "['_classic_test',\n",
       " 'bmh',\n",
       " 'classic',\n",
       " 'dark_background',\n",
       " 'fast',\n",
       " 'fivethirtyeight',\n",
       " 'ggplot',\n",
       " 'grayscale',\n",
       " 'seaborn-bright',\n",
       " 'seaborn-colorblind',\n",
       " 'seaborn-dark-palette',\n",
       " 'seaborn-dark',\n",
       " 'seaborn-darkgrid',\n",
       " 'seaborn-deep',\n",
       " 'seaborn-muted',\n",
       " 'seaborn-notebook',\n",
       " 'seaborn-paper',\n",
       " 'seaborn-pastel',\n",
       " 'seaborn-poster',\n",
       " 'seaborn-talk',\n",
       " 'seaborn-ticks',\n",
       " 'seaborn-white',\n",
       " 'seaborn-whitegrid',\n",
       " 'seaborn',\n",
       " 'Solarize_Light2',\n",
       " 'tableau-colorblind10']"
      ]
     },
     "execution_count": 46,
     "metadata": {},
     "output_type": "execute_result"
    }
   ],
   "source": [
    "plt.style.available"
   ]
  },
  {
   "cell_type": "code",
   "execution_count": 51,
   "metadata": {},
   "outputs": [
    {
     "data": {
      "text/plain": [
       "<matplotlib.axes._subplots.AxesSubplot at 0x1a27c91e48>"
      ]
     },
     "execution_count": 51,
     "metadata": {},
     "output_type": "execute_result"
    },
    {
     "data": {
      "image/png": "[encoded data removed]",
      "text/plain": [
       "<Figure size 432x288 with 1 Axes>"
      ]
     },
     "metadata": {
      "needs_background": "light"
     },
     "output_type": "display_data"
    }
   ],
   "source": [
    "plt.style.use(\"tableau-colorblind10\")\n",
    "seattle.plot(y = [\"room_typs\", \"bedrooms\"])"
   ]
  },
  {
   "cell_type": "code",
   "execution_count": 87,
   "metadata": {},
   "outputs": [],
   "source": [
    "# Distribution graphs (histogram/bar graph) of column data 列数据的分布图（直方图/条形图）\n",
    "\n",
    "def plotPerColumnDistribution(seattle, nGraphShown, nGraphPerRow):\n",
    "    nunique = seattle.nunique()\n",
    "    seattle = seattle[[col for col in seattle if nunique[col] > 1 and nunique[col] < 50]]\n",
    "    #为了显示，选择具有1到50个唯一值的列\n",
    "    nRow, nCol = seattle.shape\n",
    "    columnNames = list(seattle)\n",
    "    nGraphRow = (nCol + nGraphPerRow - 1) / nGraphPerRow\n",
    "    plt.figure(num = None, figsize = (6 * nGraphPerRow, 8 * nGraphRow), dpi = 80, facecolor = \"w\", edgecolor = \"k\")\n",
    "    for i in range(min(nCol, nGraphShown)):\n",
    "        plt.subplot(nGraphRow, nGraphPerRow, i + 1)\n",
    "        columnDf = seattle.iloc[:, i]\n",
    "        if (not np.issubdtype(type(columnDf.iloc[0]), np.number)):\n",
    "            valueCounts = columnDf.value_counts()\n",
    "            valueCounts.plot.bar()\n",
    "        else:\n",
    "            columnDf.hist()\n",
    "        plt.ylabel(\"counts\")\n",
    "        plt.xticks(rotation = 90)\n",
    "        plt.title(f\"{columnNames[i]} (column {i})\")\n",
    "    plt.tight_layout(pad = 1.0, w_pad = 1.0, h_pad = 1.0)\n",
    "    plt.show()"
   ]
  },
  {
   "cell_type": "code",
   "execution_count": 52,
   "metadata": {},
   "outputs": [
    {
     "data": {
      "text/plain": [
       "(1000, 17)"
      ]
     },
     "execution_count": 52,
     "metadata": {},
     "output_type": "execute_result"
    }
   ],
   "source": [
    "seattle.shape"
   ]
  },
  {
   "cell_type": "code",
   "execution_count": 86,
   "metadata": {},
   "outputs": [
    {
     "data": {
      "text/plain": [
       "room_id                 7576\n",
       "host_id                 4382\n",
       "room_type                  3\n",
       "address                   27\n",
       "reviews                  347\n",
       "overall_satisfaction       6\n",
       "accommodates              20\n",
       "bedrooms                   9\n",
       "bathrooms                 13\n",
       "price                    351\n",
       "last_modified           7576\n",
       "latitude                7094\n",
       "longitude               7092\n",
       "location                7317\n",
       "name                    7376\n",
       "currency                   1\n",
       "rate_type                  1\n",
       "dtype: int64"
      ]
     },
     "execution_count": 86,
     "metadata": {},
     "output_type": "execute_result"
    }
   ],
   "source": [
    "seattle.nunique()"
   ]
  },
  {
   "cell_type": "code",
   "execution_count": 65,
   "metadata": {},
   "outputs": [],
   "source": [
    "# Correlation matrix 相关矩阵\n",
    "def plotCorrelationMatrix(seattle, graphWidth):\n",
    "    filename = seattle.dataframeName\n",
    "    seattle = seattle.dropna('columns') # drop columns with NaN\n",
    "    seattle = seattle[[col for col in seattle if seattle[col].nunique() > 1]] # keep columns where there are more than 1 unique values\n",
    "    if seattle.shape[1] < 2:\n",
    "        print(f'No correlation plots shown: The number of non-NaN or constant columns ({seattle.shape[1]}) is less than 2')\n",
    "        return\n",
    "    corr = seattle.corr()\n",
    "    plt.figure(num=None, figsize=(graphWidth, graphWidth), dpi=80, facecolor='w', edgecolor='k')\n",
    "    corrMat = plt.matshow(corr, fignum = 1)\n",
    "    plt.xticks(range(len(corr.columns)), corr.columns, rotation=90)\n",
    "    plt.yticks(range(len(corr.columns)), corr.columns)\n",
    "    plt.gca().xaxis.tick_bottom()\n",
    "    plt.colorbar(corrMat)\n",
    "    plt.title(f'Correlation Matrix for {filename}', fontsize=15)\n",
    "    plt.show()\n"
   ]
  },
  {
   "cell_type": "code",
   "execution_count": 74,
   "metadata": {},
   "outputs": [],
   "source": [
    "# 散点图和密度图\n",
    "def plotScatterMatrix(seattle, plotSize, textSize):\n",
    "    seattle = seattle.select_dtypes(include =[np.number]) # keep only numerical columns\n",
    "    # Remove rows and columns that would lead to df being singular 仅保留数字列。删除将导致df奇异的行和列\n",
    "    seattle = seattle.dropna('columns')\n",
    "    seattle = seattle[[col for col in seattle if seattle[col].nunique() > 1]] # keep columns where there are more than 1 unique values\n",
    "    columnNames = list(df)\n",
    "    if len(columnNames) > 10: # reduce the number of columns for matrix inversion of kernel density plots减少内核密度图的矩阵求逆的列数\n",
    "        columnNames = columnNames[:10]\n",
    "    seattle = seattle[columnNames]\n",
    "    ax = pd.plotting.scatter_matrix(df, alpha=0.75, figsize=[plotSize, plotSize], diagonal='kde')\n",
    "    corrs = seattle.corr().values\n",
    "    for i, j in zip(*plt.np.triu_indices_from(ax, k = 1)):\n",
    "        ax[i, j].annotate('Corr. coef = %.3f' % corrs[i, j], (0.8, 0.2), xycoords='axes fraction', ha='center', va='center', size=textSize)\n",
    "    plt.suptitle('Scatter and Density Plot')\n",
    "    plt.show()"
   ]
  },
  {
   "cell_type": "code",
   "execution_count": 77,
   "metadata": {},
   "outputs": [
    {
     "data": {
      "text/plain": [
       "(1000, 18)"
      ]
     },
     "execution_count": 77,
     "metadata": {},
     "output_type": "execute_result"
    }
   ],
   "source": [
    "#check \n",
    "nRowsRead = 1000\n",
    "df1 = pd.read_csv(\"seattle_01.csv\", delimiter=',', nrows = nRowsRead)\n",
    "df1.dataframeName = 'seattle_01.csv'\n",
    "nRow, nCol = df1.shape\n",
    "nRow, nCol"
   ]
  },
  {
   "cell_type": "code",
   "execution_count": 90,
   "metadata": {},
   "outputs": [
    {
     "data": {
      "text/html": [
       "<div>\n",
       "<style scoped>\n",
       "    .dataframe tbody tr th:only-of-type {\n",
       "        vertical-align: middle;\n",
       "    }\n",
       "\n",
       "    .dataframe tbody tr th {\n",
       "        vertical-align: top;\n",
       "    }\n",
       "\n",
       "    .dataframe thead th {\n",
       "        text-align: right;\n",
       "    }\n",
       "</style>\n",
       "<table border=\"1\" class=\"dataframe\">\n",
       "  <thead>\n",
       "    <tr style=\"text-align: right;\">\n",
       "      <th></th>\n",
       "      <th>Unnamed: 0</th>\n",
       "      <th>room_id</th>\n",
       "      <th>host_id</th>\n",
       "      <th>room_type</th>\n",
       "      <th>address</th>\n",
       "      <th>reviews</th>\n",
       "      <th>overall_satisfaction</th>\n",
       "      <th>accommodates</th>\n",
       "      <th>bedrooms</th>\n",
       "      <th>bathrooms</th>\n",
       "      <th>price</th>\n",
       "      <th>last_modified</th>\n",
       "      <th>latitude</th>\n",
       "      <th>longitude</th>\n",
       "      <th>location</th>\n",
       "      <th>name</th>\n",
       "      <th>currency</th>\n",
       "      <th>rate_type</th>\n",
       "    </tr>\n",
       "  </thead>\n",
       "  <tbody>\n",
       "    <tr>\n",
       "      <th>0</th>\n",
       "      <td>0</td>\n",
       "      <td>2318</td>\n",
       "      <td>2536</td>\n",
       "      <td>Entire home/apt</td>\n",
       "      <td>Seattle, WA, United States</td>\n",
       "      <td>21</td>\n",
       "      <td>5.0</td>\n",
       "      <td>8</td>\n",
       "      <td>4.0</td>\n",
       "      <td>2.5</td>\n",
       "      <td>250</td>\n",
       "      <td>2018-12-20 03:46:14.698548</td>\n",
       "      <td>47.610819</td>\n",
       "      <td>-122.290816</td>\n",
       "      <td>0101000020E6100000D449B6BA9C925EC0416326512FCE...</td>\n",
       "      <td>Casa Madrona - Urban Oasis, 1 block from the P...</td>\n",
       "      <td>USD</td>\n",
       "      <td>nightly</td>\n",
       "    </tr>\n",
       "    <tr>\n",
       "      <th>1</th>\n",
       "      <td>1</td>\n",
       "      <td>3335</td>\n",
       "      <td>4193</td>\n",
       "      <td>Entire home/apt</td>\n",
       "      <td>Seattle, WA, United States</td>\n",
       "      <td>1</td>\n",
       "      <td>NaN</td>\n",
       "      <td>4</td>\n",
       "      <td>2.0</td>\n",
       "      <td>1.0</td>\n",
       "      <td>100</td>\n",
       "      <td>2018-12-20 04:08:45.277643</td>\n",
       "      <td>47.529846</td>\n",
       "      <td>-122.275840</td>\n",
       "      <td>0101000020E61000006FBBD05CA7915EC04DF564FED1C3...</td>\n",
       "      <td>Sweet Seattle Urban Homestead 2 Bdr</td>\n",
       "      <td>USD</td>\n",
       "      <td>nightly</td>\n",
       "    </tr>\n",
       "    <tr>\n",
       "      <th>2</th>\n",
       "      <td>2</td>\n",
       "      <td>4291</td>\n",
       "      <td>35749</td>\n",
       "      <td>Private room</td>\n",
       "      <td>Seattle, WA, United States</td>\n",
       "      <td>63</td>\n",
       "      <td>4.5</td>\n",
       "      <td>2</td>\n",
       "      <td>1.0</td>\n",
       "      <td>1.0</td>\n",
       "      <td>82</td>\n",
       "      <td>2018-12-20 03:04:19.861014</td>\n",
       "      <td>47.687801</td>\n",
       "      <td>-122.313427</td>\n",
       "      <td>0101000020E6100000BDAB1E300F945EC0FB93F8DC09D8...</td>\n",
       "      <td>Sunrise in Seattle Master Suite</td>\n",
       "      <td>USD</td>\n",
       "      <td>nightly</td>\n",
       "    </tr>\n",
       "    <tr>\n",
       "      <th>3</th>\n",
       "      <td>3</td>\n",
       "      <td>5682</td>\n",
       "      <td>8993</td>\n",
       "      <td>Entire home/apt</td>\n",
       "      <td>Seattle, WA, United States</td>\n",
       "      <td>462</td>\n",
       "      <td>5.0</td>\n",
       "      <td>2</td>\n",
       "      <td>0.0</td>\n",
       "      <td>1.0</td>\n",
       "      <td>49</td>\n",
       "      <td>2018-12-20 04:11:25.482975</td>\n",
       "      <td>47.523980</td>\n",
       "      <td>-122.359891</td>\n",
       "      <td>0101000020E6100000FCC7427408975EC009E1D1C611C3...</td>\n",
       "      <td>Cozy Studio, min. to downtown -WiFi</td>\n",
       "      <td>USD</td>\n",
       "      <td>nightly</td>\n",
       "    </tr>\n",
       "    <tr>\n",
       "      <th>4</th>\n",
       "      <td>4</td>\n",
       "      <td>6606</td>\n",
       "      <td>14942</td>\n",
       "      <td>Entire home/apt</td>\n",
       "      <td>Seattle, WA, United States</td>\n",
       "      <td>134</td>\n",
       "      <td>4.5</td>\n",
       "      <td>2</td>\n",
       "      <td>1.0</td>\n",
       "      <td>1.0</td>\n",
       "      <td>90</td>\n",
       "      <td>2018-12-20 03:12:38.391711</td>\n",
       "      <td>47.654109</td>\n",
       "      <td>-122.337605</td>\n",
       "      <td>0101000020E6100000D47D00529B955EC07782FDD7B9D3...</td>\n",
       "      <td>Fab, private seattle urban cottage!</td>\n",
       "      <td>USD</td>\n",
       "      <td>nightly</td>\n",
       "    </tr>\n",
       "  </tbody>\n",
       "</table>\n",
       "</div>"
      ],
      "text/plain": [
       "   Unnamed: 0  room_id  host_id        room_type                     address  \\\n",
       "0           0     2318     2536  Entire home/apt  Seattle, WA, United States   \n",
       "1           1     3335     4193  Entire home/apt  Seattle, WA, United States   \n",
       "2           2     4291    35749     Private room  Seattle, WA, United States   \n",
       "3           3     5682     8993  Entire home/apt  Seattle, WA, United States   \n",
       "4           4     6606    14942  Entire home/apt  Seattle, WA, United States   \n",
       "\n",
       "   reviews  overall_satisfaction  accommodates  bedrooms  bathrooms  price  \\\n",
       "0       21                   5.0             8       4.0        2.5    250   \n",
       "1        1                   NaN             4       2.0        1.0    100   \n",
       "2       63                   4.5             2       1.0        1.0     82   \n",
       "3      462                   5.0             2       0.0        1.0     49   \n",
       "4      134                   4.5             2       1.0        1.0     90   \n",
       "\n",
       "                last_modified   latitude   longitude  \\\n",
       "0  2018-12-20 03:46:14.698548  47.610819 -122.290816   \n",
       "1  2018-12-20 04:08:45.277643  47.529846 -122.275840   \n",
       "2  2018-12-20 03:04:19.861014  47.687801 -122.313427   \n",
       "3  2018-12-20 04:11:25.482975  47.523980 -122.359891   \n",
       "4  2018-12-20 03:12:38.391711  47.654109 -122.337605   \n",
       "\n",
       "                                            location  \\\n",
       "0  0101000020E6100000D449B6BA9C925EC0416326512FCE...   \n",
       "1  0101000020E61000006FBBD05CA7915EC04DF564FED1C3...   \n",
       "2  0101000020E6100000BDAB1E300F945EC0FB93F8DC09D8...   \n",
       "3  0101000020E6100000FCC7427408975EC009E1D1C611C3...   \n",
       "4  0101000020E6100000D47D00529B955EC07782FDD7B9D3...   \n",
       "\n",
       "                                                name currency rate_type  \n",
       "0  Casa Madrona - Urban Oasis, 1 block from the P...      USD   nightly  \n",
       "1                Sweet Seattle Urban Homestead 2 Bdr      USD   nightly  \n",
       "2                    Sunrise in Seattle Master Suite      USD   nightly  \n",
       "3                Cozy Studio, min. to downtown -WiFi      USD   nightly  \n",
       "4                Fab, private seattle urban cottage!      USD   nightly  "
      ]
     },
     "execution_count": 90,
     "metadata": {},
     "output_type": "execute_result"
    }
   ],
   "source": [
    "df1.head()"
   ]
  },
  {
   "cell_type": "code",
   "execution_count": 88,
   "metadata": {},
   "outputs": [
    {
     "name": "stderr",
     "output_type": "stream",
     "text": [
      "//anaconda3/lib/python3.7/site-packages/matplotlib/backends/backend_agg.py:211: RuntimeWarning: Glyph 35199 missing from current font.\n",
      "  font.set_text(s, 0.0, flags=flags)\n",
      "//anaconda3/lib/python3.7/site-packages/matplotlib/backends/backend_agg.py:211: RuntimeWarning: Glyph 38597 missing from current font.\n",
      "  font.set_text(s, 0.0, flags=flags)\n",
      "//anaconda3/lib/python3.7/site-packages/matplotlib/backends/backend_agg.py:211: RuntimeWarning: Glyph 22270 missing from current font.\n",
      "  font.set_text(s, 0.0, flags=flags)\n",
      "//anaconda3/lib/python3.7/site-packages/matplotlib/backends/backend_agg.py:180: RuntimeWarning: Glyph 35199 missing from current font.\n",
      "  font.set_text(s, 0, flags=flags)\n",
      "//anaconda3/lib/python3.7/site-packages/matplotlib/backends/backend_agg.py:180: RuntimeWarning: Glyph 38597 missing from current font.\n",
      "  font.set_text(s, 0, flags=flags)\n",
      "//anaconda3/lib/python3.7/site-packages/matplotlib/backends/backend_agg.py:180: RuntimeWarning: Glyph 22270 missing from current font.\n",
      "  font.set_text(s, 0, flags=flags)\n"
     ]
    },
    {
     "data": {
      "image/png": "[encoded data removed]",
      "text/plain": [
       "<Figure size 2400x1280 with 6 Axes>"
      ]
     },
     "metadata": {},
     "output_type": "display_data"
    }
   ],
   "source": [
    "plotPerColumnDistribution(df1, 10, 5)"
   ]
  },
  {
   "cell_type": "code",
   "execution_count": 93,
   "metadata": {},
   "outputs": [
    {
     "data": {
      "image/png": "[encoded data removed]",
      "text/plain": [
       "<Figure size 640x640 with 2 Axes>"
      ]
     },
     "metadata": {},
     "output_type": "display_data"
    }
   ],
   "source": [
    "plotCorrelationMatrix(df1, 8)"
   ]
  },
  {
   "cell_type": "code",
   "execution_count": 92,
   "metadata": {},
   "outputs": [
    {
     "ename": "NameError",
     "evalue": "name 'df' is not defined",
     "output_type": "error",
     "traceback": [
      "\u001b[0;31m---------------------------------------------------------------------------\u001b[0m",
      "\u001b[0;31mNameError\u001b[0m                                 Traceback (most recent call last)",
      "\u001b[0;32m<ipython-input-92-a5e842778a31>\u001b[0m in \u001b[0;36m<module>\u001b[0;34m\u001b[0m\n\u001b[0;32m----> 1\u001b[0;31m \u001b[0mplotScatterMatrix\u001b[0m\u001b[0;34m(\u001b[0m\u001b[0mdf1\u001b[0m\u001b[0;34m,\u001b[0m \u001b[0;36m20\u001b[0m\u001b[0;34m,\u001b[0m \u001b[0;36m10\u001b[0m\u001b[0;34m)\u001b[0m\u001b[0;34m\u001b[0m\u001b[0;34m\u001b[0m\u001b[0m\n\u001b[0m",
      "\u001b[0;32m<ipython-input-74-c747d4d1068c>\u001b[0m in \u001b[0;36mplotScatterMatrix\u001b[0;34m(seattle, plotSize, textSize)\u001b[0m\n\u001b[1;32m      5\u001b[0m     \u001b[0mseattle\u001b[0m \u001b[0;34m=\u001b[0m \u001b[0mseattle\u001b[0m\u001b[0;34m.\u001b[0m\u001b[0mdropna\u001b[0m\u001b[0;34m(\u001b[0m\u001b[0;34m'columns'\u001b[0m\u001b[0;34m)\u001b[0m\u001b[0;34m\u001b[0m\u001b[0;34m\u001b[0m\u001b[0m\n\u001b[1;32m      6\u001b[0m     \u001b[0mseattle\u001b[0m \u001b[0;34m=\u001b[0m \u001b[0mseattle\u001b[0m\u001b[0;34m[\u001b[0m\u001b[0;34m[\u001b[0m\u001b[0mcol\u001b[0m \u001b[0;32mfor\u001b[0m \u001b[0mcol\u001b[0m \u001b[0;32min\u001b[0m \u001b[0mseattle\u001b[0m \u001b[0;32mif\u001b[0m \u001b[0mseattle\u001b[0m\u001b[0;34m[\u001b[0m\u001b[0mcol\u001b[0m\u001b[0;34m]\u001b[0m\u001b[0;34m.\u001b[0m\u001b[0mnunique\u001b[0m\u001b[0;34m(\u001b[0m\u001b[0;34m)\u001b[0m \u001b[0;34m>\u001b[0m \u001b[0;36m1\u001b[0m\u001b[0;34m]\u001b[0m\u001b[0;34m]\u001b[0m \u001b[0;31m# keep columns where there are more than 1 unique values\u001b[0m\u001b[0;34m\u001b[0m\u001b[0;34m\u001b[0m\u001b[0m\n\u001b[0;32m----> 7\u001b[0;31m     \u001b[0mcolumnNames\u001b[0m \u001b[0;34m=\u001b[0m \u001b[0mlist\u001b[0m\u001b[0;34m(\u001b[0m\u001b[0mdf\u001b[0m\u001b[0;34m)\u001b[0m\u001b[0;34m\u001b[0m\u001b[0;34m\u001b[0m\u001b[0m\n\u001b[0m\u001b[1;32m      8\u001b[0m     \u001b[0;32mif\u001b[0m \u001b[0mlen\u001b[0m\u001b[0;34m(\u001b[0m\u001b[0mcolumnNames\u001b[0m\u001b[0;34m)\u001b[0m \u001b[0;34m>\u001b[0m \u001b[0;36m10\u001b[0m\u001b[0;34m:\u001b[0m \u001b[0;31m# reduce the number of columns for matrix inversion of kernel density plots\u001b[0m\u001b[0;34m\u001b[0m\u001b[0;34m\u001b[0m\u001b[0m\n\u001b[1;32m      9\u001b[0m         \u001b[0mcolumnNames\u001b[0m \u001b[0;34m=\u001b[0m \u001b[0mcolumnNames\u001b[0m\u001b[0;34m[\u001b[0m\u001b[0;34m:\u001b[0m\u001b[0;36m10\u001b[0m\u001b[0;34m]\u001b[0m\u001b[0;34m\u001b[0m\u001b[0;34m\u001b[0m\u001b[0m\n",
      "\u001b[0;31mNameError\u001b[0m: name 'df' is not defined"
     ]
    }
   ],
   "source": [
    "plotScatterMatrix(df1, 20, 10)"
   ]
  },
  {
   "cell_type": "markdown",
   "metadata": {},
   "source": []
  },
  {
   "cell_type": "code",
   "execution_count": null,
   "metadata": {},
   "outputs": [],
   "source": []
  },
  {
   "cell_type": "code",
   "execution_count": null,
   "metadata": {},
   "outputs": [],
   "source": []
  },
  {
   "cell_type": "code",
   "execution_count": null,
   "metadata": {},
   "outputs": [],
   "source": []
  },
  {
   "cell_type": "code",
   "execution_count": null,
   "metadata": {},
   "outputs": [],
   "source": []
  },
  {
   "cell_type": "code",
   "execution_count": null,
   "metadata": {},
   "outputs": [],
   "source": []
  },
  {
   "cell_type": "code",
   "execution_count": null,
   "metadata": {},
   "outputs": [],
   "source": []
  },
  {
   "cell_type": "code",
   "execution_count": null,
   "metadata": {},
   "outputs": [],
   "source": []
  },
  {
   "cell_type": "code",
   "execution_count": null,
   "metadata": {},
   "outputs": [],
   "source": []
  },
  {
   "cell_type": "code",
   "execution_count": null,
   "metadata": {},
   "outputs": [],
   "source": []
  },
  {
   "cell_type": "code",
   "execution_count": null,
   "metadata": {},
   "outputs": [],
   "source": []
  },
  {
   "cell_type": "code",
   "execution_count": null,
   "metadata": {},
   "outputs": [],
   "source": []
  },
  {
   "cell_type": "code",
   "execution_count": null,
   "metadata": {},
   "outputs": [],
   "source": []
  },
  {
   "cell_type": "code",
   "execution_count": null,
   "metadata": {},
   "outputs": [],
   "source": []
  }
 ],
 "metadata": {
  "kernelspec": {
   "display_name": "Python 3",
   "language": "python",
   "name": "python3"
  },
  "language_info": {
   "codemirror_mode": {
    "name": "ipython",
    "version": 3
   },
   "file_extension": ".py",
   "mimetype": "text/x-python",
   "name": "python",
   "nbconvert_exporter": "python",
   "pygments_lexer": "ipython3",
   "version": "3.7.3"
  }
 },
 "nbformat": 4,
 "nbformat_minor": 2
}
